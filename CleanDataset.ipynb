{
 "cells": [
  {
   "cell_type": "markdown",
   "metadata": {},
   "source": [
    "    Import the required packages and collect responses regarding which data is available for use. For now, that data has been hardcoded."
   ]
  },
  {
   "cell_type": "code",
   "execution_count": 1,
   "metadata": {
    "scrolled": true
   },
   "outputs": [
    {
     "name": "stdout",
     "output_type": "stream",
     "text": [
      "Following information has been collected:\n",
      "\n",
      "Name: \t\t\t\tAyushya Chitransh\n",
      "Facebook Data available:\tn\n",
      "Google Data available:\t\ty\n",
      "LinkedIn Data available:\ty\n",
      "Whatsapp Data available:\tn\n"
     ]
    }
   ],
   "source": [
    "import pandas as pd\n",
    "import numpy as np\n",
    "import os\n",
    "import re\n",
    "from datetime import datetime\n",
    "\n",
    "# personName = raw_input('Enter your full name: ')\n",
    "personName = \"Ayushya Chitransh\"\n",
    "# fbData = raw_input('Do you have Facebook data to parse through (y/n)?')\n",
    "fbData = \"n\"\n",
    "# googleData = raw_input('Do you have Google Hangouts data to parse through (y/n)?')\n",
    "googleData  =\"y\"\n",
    "# linkedInData = raw_input('Do you have LinkedIn data to parse through (y/n)?')\n",
    "linkedInData = \"y\"\n",
    "# whatsAppData = raw_input('Do you have whatsAppData to parse through (y/n)?')\n",
    "whatsAppData = \"n\"\n",
    "print \"Following information has been collected:\\n\"\n",
    "print \"Name: \\t\\t\\t\\t\", personName\n",
    "print \"Facebook Data available:\\t\", fbData\n",
    "print \"Google Data available:\\t\\t\", googleData\n",
    "print \"LinkedIn Data available:\\t\", linkedInData\n",
    "print \"Whatsapp Data available:\\t\", whatsAppData"
   ]
  },
  {
   "cell_type": "markdown",
   "metadata": {},
   "source": [
    "    Declare functions to parse and clean various data sources.\n",
    "    - Whatsapp Data parser\n",
    "    - Hangouts data parser\n",
    "    - Linkedin Data parser\n",
    "    - Facebook data parser"
   ]
  },
  {
   "cell_type": "code",
   "execution_count": 2,
   "metadata": {},
   "outputs": [],
   "source": [
    "def getWhatsAppData():\n",
    "        df = pd.read_csv('whatsapp_chats.csv')\n",
    "        responseDictionary = dict()\n",
    "        receivedMessages = df[df['From'] != personName]\n",
    "        sentMessages = df[df['From'] == personName]\n",
    "        combined = pd.concat([sentMessages, receivedMessages])\n",
    "        otherPersonsMessage, myMessage = \"\",\"\"\n",
    "        firstMessage = True\n",
    "        for index, row in combined.iterrows():\n",
    "            if (row['From'] != personName):\n",
    "                if myMessage and otherPersonsMessage:\n",
    "                    otherPersonsMessage = cleanMessage(otherPersonsMessage)\n",
    "                    myMessage = cleanMessage(myMessage)\n",
    "                    responseDictionary[otherPersonsMessage.rstrip()] = myMessage.rstrip()\n",
    "                    otherPersonsMessage, myMessage = \"\",\"\"\n",
    "                otherPersonsMessage = otherPersonsMessage + str(row['Content']) + \" \"\n",
    "            else:\n",
    "                if (firstMessage):\n",
    "                    firstMessage = False\n",
    "                    # Don't include if I am the person initiating the convo\n",
    "                    continue\n",
    "                myMessage = myMessage + str(row['Content']) + \" \"\n",
    "        return responseDictionary"
   ]
  },
  {
   "cell_type": "code",
   "execution_count": 3,
   "metadata": {},
   "outputs": [],
   "source": [
    "def getWhatsAppData():\n",
    "        df = pd.read_csv('whatsapp_chats.csv')\n",
    "        responseDictionary = dict()\n",
    "        receivedMessages = df[df['From'] != personName]\n",
    "        sentMessages = df[df['From'] == personName]\n",
    "        combined = pd.concat([sentMessages, receivedMessages])\n",
    "        otherPersonsMessage, myMessage = \"\",\"\"\n",
    "        firstMessage = True\n",
    "        for index, row in combined.iterrows():\n",
    "            if (row['From'] != personName):\n",
    "                if myMessage and otherPersonsMessage:\n",
    "                    otherPersonsMessage = cleanMessage(otherPersonsMessage)\n",
    "                    myMessage = cleanMessage(myMessage)\n",
    "                    responseDictionary[otherPersonsMessage.rstrip()] = myMessage.rstrip()\n",
    "                    otherPersonsMessage, myMessage = \"\",\"\"\n",
    "                otherPersonsMessage = otherPersonsMessage + str(row['Content']) + \" \"\n",
    "            else:\n",
    "                if (firstMessage):\n",
    "                    firstMessage = False\n",
    "                    # Don't include if I am the person initiating the convo\n",
    "                    continue\n",
    "                myMessage = myMessage + str(row['Content']) + \" \"\n",
    "        return responseDictionary"
   ]
  },
  {
   "cell_type": "code",
   "execution_count": 4,
   "metadata": {},
   "outputs": [],
   "source": [
    "def getGoogleHangoutsData(location):\n",
    "    # Putting all the file names in a list\n",
    "    allFiles = []\n",
    "    # Edit these file and directory names if you have them saved somewhere else\n",
    "    for filename in os.listdir(location):\n",
    "        if filename.endswith(\".txt\"): \n",
    "            allFiles.append(location + \"/\" + filename)\n",
    "\n",
    "    responseDictionary = dict() # The key is the other person's message, and the value is my response\n",
    "    # Going through each file, and recording everyone's messages to me, and my responses\n",
    "    for currentFile in allFiles:\n",
    "        myMessage, otherPersonsMessage, currentSpeaker = \"\",\"\",\"\"\n",
    "        openedFile = open(currentFile, 'r') \n",
    "        allLines = openedFile.readlines()\n",
    "        for index,lines in enumerate(allLines):\n",
    "            # The sender's name is separated by < and >\n",
    "            leftBracket = lines.find('<')\n",
    "            rightBracket = lines.find('>')\n",
    "            \n",
    "            # Find messages that I sent\n",
    "            if (lines[leftBracket+1:rightBracket] == personName):\n",
    "                if not myMessage:\n",
    "                    # Want to find the first message that I send (if I send multiple in a row)\n",
    "                    startMessageIndex = index - 1\n",
    "                myMessage += lines[rightBracket+1:]\n",
    "            \n",
    "            elif myMessage:\n",
    "                # Now go and see what message the other person sent by looking at previous messages\n",
    "                for counter in range(startMessageIndex, 0, -1):\n",
    "                    currentLine = allLines[counter]\n",
    "                    # In case the message above isn't in the right format\n",
    "                    if (currentLine.find('<') < 0 or currentLine.find('>') < 0):\n",
    "                        myMessage, otherPersonsMessage, currentSpeaker = \"\",\"\",\"\"\n",
    "                        break\n",
    "                    if not currentSpeaker:\n",
    "                        # The first speaker not named me\n",
    "                        currentSpeaker = currentLine[currentLine.find('<')+1:currentLine.find('>')]\n",
    "                    elif (currentSpeaker != currentLine[currentLine.find('<')+1:currentLine.find('>')]):\n",
    "                        # A different person started speaking, so now I know that the first person's message is done\n",
    "                        otherPersonsMessage = cleanMessage(otherPersonsMessage)\n",
    "                        myMessage = cleanMessage(myMessage)\n",
    "                        responseDictionary[otherPersonsMessage] = myMessage\n",
    "                        break\n",
    "                    otherPersonsMessage = currentLine[currentLine.find('>')+1:] + otherPersonsMessage\n",
    "                myMessage, otherPersonsMessage, currentSpeaker = \"\",\"\",\"\"\n",
    "    return responseDictionary"
   ]
  },
  {
   "cell_type": "code",
   "execution_count": 5,
   "metadata": {},
   "outputs": [],
   "source": [
    "def getFacebookData():\n",
    "    responseDictionary = dict()\n",
    "    fbFile = open('fbMessages.txt', 'r') \n",
    "    allLines = fbFile.readlines()\n",
    "    myMessage, otherPersonsMessage, currentSpeaker = \"\",\"\",\"\"\n",
    "    for index,lines in enumerate(allLines):\n",
    "        rightBracket = lines.find(']') + 2\n",
    "        justMessage = lines[rightBracket:]\n",
    "        colon = justMessage.find(':')\n",
    "        # Find messages that I sent\n",
    "        if (justMessage[:colon] == personName):\n",
    "            if not myMessage:\n",
    "                # Want to find the first message that I send (if I send multiple in a row)\n",
    "                startMessageIndex = index - 1\n",
    "            myMessage += justMessage[colon+2:]\n",
    "            \n",
    "        elif myMessage:\n",
    "            # Now go and see what message the other person sent by looking at previous messages\n",
    "            for counter in range(startMessageIndex, 0, -1):\n",
    "                currentLine = allLines[counter]\n",
    "                rightBracket = currentLine.find(']') + 2\n",
    "                justMessage = currentLine[rightBracket:]\n",
    "                colon = justMessage.find(':')\n",
    "                if not currentSpeaker:\n",
    "                    # The first speaker not named me\n",
    "                    currentSpeaker = justMessage[:colon]\n",
    "                elif (currentSpeaker != justMessage[:colon] and otherPersonsMessage):\n",
    "                    # A different person started speaking, so now I know that the first person's message is done\n",
    "                    otherPersonsMessage = cleanMessage(otherPersonsMessage)\n",
    "                    myMessage = cleanMessage(myMessage)\n",
    "                    responseDictionary[otherPersonsMessage] = myMessage\n",
    "                    break\n",
    "                otherPersonsMessage = justMessage[colon+2:] + otherPersonsMessage\n",
    "            myMessage, otherPersonsMessage, currentSpeaker = \"\",\"\",\"\"    \n",
    "    return responseDictionary"
   ]
  },
  {
   "cell_type": "code",
   "execution_count": 6,
   "metadata": {},
   "outputs": [],
   "source": [
    "def getLinkedInData(file_name):\n",
    "    df = pd.read_csv(file_name)\n",
    "    dateTimeConverter = lambda x: datetime.strptime(x,'%x, %I:%M %p')\n",
    "    responseDictionary = dict()\n",
    "    peopleContacted = df['From'].unique().tolist()\n",
    "    for person in peopleContacted:\n",
    "        receivedMessages = df[df['From'] == person]\n",
    "        sentMessages = df[df['To'] == person]\n",
    "        if (len(sentMessages) == 0 or len(receivedMessages) == 0):\n",
    "            # There was no actual conversation\n",
    "            continue\n",
    "        combined = pd.concat([sentMessages, receivedMessages])\n",
    "        combined['Date'] = combined['Date'].apply(dateTimeConverter)\n",
    "        combined = combined.sort_values(['Date'])\n",
    "        otherPersonsMessage, myMessage = \"\",\"\"\n",
    "        firstMessage = True\n",
    "        for index, row in combined.iterrows():\n",
    "            if (row['From'] != personName):\n",
    "                if myMessage and otherPersonsMessage:\n",
    "                    otherPersonsMessage = cleanMessage(otherPersonsMessage)\n",
    "                    myMessage = cleanMessage(myMessage)\n",
    "                    responseDictionary[otherPersonsMessage.rstrip()] = myMessage.rstrip()\n",
    "                    otherPersonsMessage, myMessage = \"\",\"\"\n",
    "                if(type(row['Content']) != float):\n",
    "                    otherPersonsMessage = otherPersonsMessage + row['Content'] + \" \"\n",
    "            else:\n",
    "                if (firstMessage):\n",
    "                    firstMessage = False\n",
    "                    # Don't include if I am the person initiating the convo\n",
    "                    continue\n",
    "                myMessage = myMessage + str(row['Content']) + \" \"\n",
    "    return responseDictionary"
   ]
  },
  {
   "cell_type": "markdown",
   "metadata": {},
   "source": [
    "    A helper utility to clean messages and remove newlines, non-ascii characters, punctuations, maybe more to come."
   ]
  },
  {
   "cell_type": "code",
   "execution_count": 7,
   "metadata": {},
   "outputs": [],
   "source": [
    "def cleanMessage(message):\n",
    "    # Remove new lines within message\n",
    "    cleanedMessage = message.replace('\\n',' ').lower()\n",
    "    # Deal with some weird tokens\n",
    "    cleanedMessage = cleanedMessage.decode('utf8').encode('ascii', errors='ignore')\n",
    "    # Remove punctuation\n",
    "    cleanedMessage = re.sub('([.,!?])','', cleanedMessage)\n",
    "    # Remove multiple spaces in message\n",
    "    cleanedMessage = re.sub(' +',' ', cleanedMessage)\n",
    "    return cleanedMessage"
   ]
  },
  {
   "cell_type": "markdown",
   "metadata": {},
   "source": [
    "    Clean each data source one by one."
   ]
  },
  {
   "cell_type": "code",
   "execution_count": 8,
   "metadata": {},
   "outputs": [
    {
     "name": "stdout",
     "output_type": "stream",
     "text": [
      "Getting Google Hangout Data\n"
     ]
    }
   ],
   "source": [
    "combinedDictionary = {}\n",
    "if (googleData == 'y'):\n",
    "    print 'Getting Google Hangout Data'\n",
    "    combinedDictionary.update(getGoogleHangoutsData('dirtyData/hangouts/dataType1'))\n",
    "    combinedDictionary.update(getGoogleHangoutsData('dirtyData/hangouts/dataType2'))"
   ]
  },
  {
   "cell_type": "code",
   "execution_count": 9,
   "metadata": {},
   "outputs": [],
   "source": [
    "if (fbData == 'y'):\n",
    "    print 'Getting Facebook Data'\n",
    "    combinedDictionary.update(getFacebookData())"
   ]
  },
  {
   "cell_type": "code",
   "execution_count": 10,
   "metadata": {},
   "outputs": [],
   "source": [
    "if (linkedInData == 'n'):\n",
    "    print 'Getting LinkedIn Data'\n",
    "    combinedDictionary.update(getLinkedInData('dirtyData/linkedIn/Messages.csv'))"
   ]
  },
  {
   "cell_type": "code",
   "execution_count": 11,
   "metadata": {},
   "outputs": [],
   "source": [
    "if (whatsAppData == 'y'):\n",
    "        print 'Getting whatsApp Data'\n",
    "        combinedDictionary.update(getWhatsAppData())"
   ]
  },
  {
   "cell_type": "code",
   "execution_count": 12,
   "metadata": {},
   "outputs": [
    {
     "name": "stdout",
     "output_type": "stream",
     "text": [
      "Total len of dictionary 4253\n",
      "Saving conversation data dictionary\n"
     ]
    }
   ],
   "source": [
    "print 'Total len of dictionary', len(combinedDictionary)\n",
    "print 'Saving conversation data dictionary'\n",
    "np.save('conversationDictionary.npy', combinedDictionary)"
   ]
  },
  {
   "cell_type": "code",
   "execution_count": null,
   "metadata": {},
   "outputs": [],
   "source": []
  }
 ],
 "metadata": {
  "kernelspec": {
   "display_name": "Python 2",
   "language": "python",
   "name": "python2"
  },
  "language_info": {
   "codemirror_mode": {
    "name": "ipython",
    "version": 2
   },
   "file_extension": ".py",
   "mimetype": "text/x-python",
   "name": "python",
   "nbconvert_exporter": "python",
   "pygments_lexer": "ipython2",
   "version": "2.7.10"
  }
 },
 "nbformat": 4,
 "nbformat_minor": 2
}
